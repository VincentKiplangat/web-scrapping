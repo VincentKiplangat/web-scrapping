{
 "cells": [
  {
   "cell_type": "code",
   "execution_count": 2,
   "metadata": {},
   "outputs": [],
   "source": [
    "from bs4 import BeautifulSoup\n",
    "import requests\n",
    "import re\n",
    "import pandas as pd"
   ]
  },
  {
   "cell_type": "code",
   "execution_count": 3,
   "metadata": {},
   "outputs": [],
   "source": [
    "landingPage = 'https://books.toscrape.com'\n",
    "\n",
    "# Get response from website\n",
    "response = requests.get(url=landingPage)"
   ]
  },
  {
   "cell_type": "code",
   "execution_count": 4,
   "metadata": {},
   "outputs": [
    {
     "data": {
      "text/plain": [
       "['_content',\n",
       " 'status_code',\n",
       " 'headers',\n",
       " 'url',\n",
       " 'history',\n",
       " 'encoding',\n",
       " 'reason',\n",
       " 'cookies',\n",
       " 'elapsed',\n",
       " 'request']"
      ]
     },
     "execution_count": 4,
     "metadata": {},
     "output_type": "execute_result"
    }
   ],
   "source": [
    "# View all attributes of the response\n",
    "response.__attrs__"
   ]
  },
  {
   "cell_type": "code",
   "execution_count": 5,
   "metadata": {},
   "outputs": [
    {
     "data": {
      "text/plain": [
       "200"
      ]
     },
     "execution_count": 5,
     "metadata": {},
     "output_type": "execute_result"
    }
   ],
   "source": [
    "# What is the status code?\n",
    "response.status_code"
   ]
  },
  {
   "cell_type": "code",
   "execution_count": 6,
   "metadata": {},
   "outputs": [],
   "source": [
    "# Creating a soup from the content \n",
    "soup = BeautifulSoup(markup=response.content, \n",
    "              features='html.parser')"
   ]
  },
  {
   "cell_type": "code",
   "execution_count": 7,
   "metadata": {},
   "outputs": [],
   "source": [
    "bookList = soup.find(name='ol', attrs={'class': 'row'})\\\n",
    "                .findAll(name='li', attrs={'class': \"col-xs-6 col-sm-4 col-md-3 col-lg-3\"})"
   ]
  },
  {
   "cell_type": "code",
   "execution_count": 8,
   "metadata": {},
   "outputs": [],
   "source": [
    "test = bookList[0]"
   ]
  },
  {
   "cell_type": "code",
   "execution_count": 9,
   "metadata": {},
   "outputs": [],
   "source": [
    "# Grabbing the title of the book\n",
    "title = test.find(name='h3').find(name='a')['title']\n",
    "\n",
    "# Grab the price of the book\n",
    "priceInEuros = test.find(name='div', attrs={'class': 'product_price'})\\\n",
    "                    .find(name='p', attrs={'class': 'price_color'})\\\n",
    "                    .text\\\n",
    "                    .replace('£', '')\n",
    "\n",
    "# Grab the availability in store\n",
    "availability = test.find(name='div', attrs={'class': 'product_price'})\\\n",
    "                    .find(name='p', attrs={'class': 'instock availability'})\\\n",
    "                    .text\\\n",
    "                    .strip()\n",
    "\n",
    "# Extract the star rating\n",
    "rating = test.find(name='p', \n",
    "          attrs={'class': re.compile(pattern='star-rating.+')})['class'][1]"
   ]
  },
  {
   "cell_type": "code",
   "execution_count": 10,
   "metadata": {},
   "outputs": [],
   "source": [
    "df = pd.DataFrame(columns=['title', 'priceInEuros', 'availability', 'rating'])\n",
    "\n",
    "\n",
    "for idx, book in enumerate(bookList):\n",
    "    # Grab the title\n",
    "    title = book.find(name='h3').find(name='a')['title']\n",
    "    # Grab the price\n",
    "    priceInEuros = book.find(name='div', attrs={'class': 'product_price'})\\\n",
    "                    .find(name='p', attrs={'class': 'price_color'})\\\n",
    "                    .text\\\n",
    "                    .replace('£', '')\n",
    "    # Grab the availability\n",
    "    availability = book.find(name='div', attrs={'class': 'product_price'})\\\n",
    "                    .find(name='p', attrs={'class': 'instock availability'})\\\n",
    "                    .text\\\n",
    "                    .strip()\n",
    "    # Grab the rating\n",
    "    rating = book.find(name='p', \n",
    "          attrs={'class': re.compile(pattern='star-rating.+')})['class'][1]\n",
    "    \n",
    "    # Appending information to the dataframe\n",
    "    df.loc[idx] = [title, float(priceInEuros), availability, rating]"
   ]
  },
  {
   "cell_type": "markdown",
   "metadata": {},
   "source": [
    "## Incorporate Pagination"
   ]
  },
  {
   "cell_type": "code",
   "execution_count": 11,
   "metadata": {},
   "outputs": [],
   "source": [
    "pagesScrapped = 1\n",
    "df = pd.DataFrame(columns=['title', 'priceInEuros', 'availability', 'rating'])\n",
    "landingPage = 'https://books.toscrape.com/'\n",
    "url = landingPage\n",
    "listOfDfs = []\n",
    "\n",
    "while pagesScrapped <= 10:\n",
    "    # For each page, make a request\n",
    "    response = requests.get(url=url)\n",
    "\n",
    "    # Create a soup\n",
    "    soup = BeautifulSoup(markup=response.content,\n",
    "                         features='html.parser')\n",
    "\n",
    "    # Extract the list of books\n",
    "    bookList = soup.find(name='ol', attrs={'class': 'row'})\\\n",
    "                .findAll(name='li', attrs={'class': \"col-xs-6 col-sm-4 col-md-3 col-lg-3\"})\n",
    "\n",
    "    for idx, book in enumerate(bookList):\n",
    "        # Grab the title\n",
    "        title = book.find(name='h3').find(name='a')['title']\n",
    "        # Grab the price\n",
    "        priceInEuros = book.find(name='div', attrs={'class': 'product_price'})\\\n",
    "                        .find(name='p', attrs={'class': 'price_color'})\\\n",
    "                        .text\\\n",
    "                        .replace('£', '')\n",
    "        # Grab the availability\n",
    "        availability = book.find(name='div', attrs={'class': 'product_price'})\\\n",
    "                        .find(name='p', attrs={'class': 'instock availability'})\\\n",
    "                        .text\\\n",
    "                        .strip()\n",
    "        # Grab the rating\n",
    "        rating = book.find(name='p', \n",
    "            attrs={'class': re.compile(pattern='star-rating.+')})['class'][1]\n",
    "        \n",
    "        # Appending information to the dataframe\n",
    "        df.loc[idx] = [title, float(priceInEuros), availability, rating]\n",
    "    \n",
    "    # Store the pages info in a list of dataframes\n",
    "    listOfDfs.append(df)\n",
    "\n",
    "\n",
    "    # Get the url for the next page\n",
    "    nextPageUrl = soup.find(name='li', attrs={'class': 'next'})\\\n",
    "                        .find(name='a')['href']\n",
    "    \n",
    "    # Update url \n",
    "    if pagesScrapped >= 2:\n",
    "        url = landingPage + 'catalogue/' + nextPageUrl\n",
    "    else:\n",
    "        url = landingPage + nextPageUrl\n",
    "\n",
    "    # Update control variable\n",
    "    pagesScrapped += 1\n",
    "\n",
    "df = pd.concat(listOfDfs)"
   ]
  },
  {
   "cell_type": "code",
   "execution_count": 13,
   "metadata": {},
   "outputs": [
    {
     "data": {
      "text/html": [
       "<div>\n",
       "<style scoped>\n",
       "    .dataframe tbody tr th:only-of-type {\n",
       "        vertical-align: middle;\n",
       "    }\n",
       "\n",
       "    .dataframe tbody tr th {\n",
       "        vertical-align: top;\n",
       "    }\n",
       "\n",
       "    .dataframe thead th {\n",
       "        text-align: right;\n",
       "    }\n",
       "</style>\n",
       "<table border=\"1\" class=\"dataframe\">\n",
       "  <thead>\n",
       "    <tr style=\"text-align: right;\">\n",
       "      <th></th>\n",
       "      <th>title</th>\n",
       "      <th>priceInEuros</th>\n",
       "      <th>availability</th>\n",
       "      <th>rating</th>\n",
       "    </tr>\n",
       "  </thead>\n",
       "  <tbody>\n",
       "    <tr>\n",
       "      <th>0</th>\n",
       "      <td>Modern Romance</td>\n",
       "      <td>28.26</td>\n",
       "      <td>In stock</td>\n",
       "      <td>Five</td>\n",
       "    </tr>\n",
       "    <tr>\n",
       "      <th>1</th>\n",
       "      <td>Miss Peregrine’s Home for Peculiar Children (M...</td>\n",
       "      <td>10.76</td>\n",
       "      <td>In stock</td>\n",
       "      <td>One</td>\n",
       "    </tr>\n",
       "    <tr>\n",
       "      <th>2</th>\n",
       "      <td>Louisa: The Extraordinary Life of Mrs. Adams</td>\n",
       "      <td>16.85</td>\n",
       "      <td>In stock</td>\n",
       "      <td>Two</td>\n",
       "    </tr>\n",
       "    <tr>\n",
       "      <th>3</th>\n",
       "      <td>Little Red</td>\n",
       "      <td>13.47</td>\n",
       "      <td>In stock</td>\n",
       "      <td>Three</td>\n",
       "    </tr>\n",
       "    <tr>\n",
       "      <th>4</th>\n",
       "      <td>Library of Souls (Miss Peregrine’s Peculiar Ch...</td>\n",
       "      <td>48.56</td>\n",
       "      <td>In stock</td>\n",
       "      <td>Five</td>\n",
       "    </tr>\n",
       "    <tr>\n",
       "      <th>...</th>\n",
       "      <td>...</td>\n",
       "      <td>...</td>\n",
       "      <td>...</td>\n",
       "      <td>...</td>\n",
       "    </tr>\n",
       "    <tr>\n",
       "      <th>15</th>\n",
       "      <td>Eureka Trivia 6.0</td>\n",
       "      <td>54.59</td>\n",
       "      <td>In stock</td>\n",
       "      <td>Four</td>\n",
       "    </tr>\n",
       "    <tr>\n",
       "      <th>16</th>\n",
       "      <td>Drive: The Surprising Truth About What Motivat...</td>\n",
       "      <td>34.95</td>\n",
       "      <td>In stock</td>\n",
       "      <td>Four</td>\n",
       "    </tr>\n",
       "    <tr>\n",
       "      <th>17</th>\n",
       "      <td>Done Rubbed Out (Reightman &amp; Bailey #1)</td>\n",
       "      <td>37.72</td>\n",
       "      <td>In stock</td>\n",
       "      <td>Five</td>\n",
       "    </tr>\n",
       "    <tr>\n",
       "      <th>18</th>\n",
       "      <td>Doing It Over (Most Likely To #1)</td>\n",
       "      <td>35.61</td>\n",
       "      <td>In stock</td>\n",
       "      <td>Three</td>\n",
       "    </tr>\n",
       "    <tr>\n",
       "      <th>19</th>\n",
       "      <td>Deliciously Ella Every Day: Quick and Easy Rec...</td>\n",
       "      <td>42.16</td>\n",
       "      <td>In stock</td>\n",
       "      <td>Three</td>\n",
       "    </tr>\n",
       "  </tbody>\n",
       "</table>\n",
       "<p>200 rows × 4 columns</p>\n",
       "</div>"
      ],
      "text/plain": [
       "                                                title  priceInEuros  \\\n",
       "0                                      Modern Romance         28.26   \n",
       "1   Miss Peregrine’s Home for Peculiar Children (M...         10.76   \n",
       "2        Louisa: The Extraordinary Life of Mrs. Adams         16.85   \n",
       "3                                          Little Red         13.47   \n",
       "4   Library of Souls (Miss Peregrine’s Peculiar Ch...         48.56   \n",
       "..                                                ...           ...   \n",
       "15                                  Eureka Trivia 6.0         54.59   \n",
       "16  Drive: The Surprising Truth About What Motivat...         34.95   \n",
       "17            Done Rubbed Out (Reightman & Bailey #1)         37.72   \n",
       "18                  Doing It Over (Most Likely To #1)         35.61   \n",
       "19  Deliciously Ella Every Day: Quick and Easy Rec...         42.16   \n",
       "\n",
       "   availability rating  \n",
       "0      In stock   Five  \n",
       "1      In stock    One  \n",
       "2      In stock    Two  \n",
       "3      In stock  Three  \n",
       "4      In stock   Five  \n",
       "..          ...    ...  \n",
       "15     In stock   Four  \n",
       "16     In stock   Four  \n",
       "17     In stock   Five  \n",
       "18     In stock  Three  \n",
       "19     In stock  Three  \n",
       "\n",
       "[200 rows x 4 columns]"
      ]
     },
     "execution_count": 13,
     "metadata": {},
     "output_type": "execute_result"
    }
   ],
   "source": [
    "df"
   ]
  },
  {
   "cell_type": "code",
   "execution_count": 12,
   "metadata": {},
   "outputs": [
    {
     "data": {
      "text/plain": [
       "(200, 4)"
      ]
     },
     "execution_count": 12,
     "metadata": {},
     "output_type": "execute_result"
    }
   ],
   "source": [
    "df.shape"
   ]
  }
 ],
 "metadata": {
  "kernelspec": {
   "display_name": "Python (learn-env)",
   "language": "python",
   "name": "learn-env"
  },
  "language_info": {
   "codemirror_mode": {
    "name": "ipython",
    "version": 3
   },
   "file_extension": ".py",
   "mimetype": "text/x-python",
   "name": "python",
   "nbconvert_exporter": "python",
   "pygments_lexer": "ipython3",
   "version": "3.11.5"
  }
 },
 "nbformat": 4,
 "nbformat_minor": 2
}
